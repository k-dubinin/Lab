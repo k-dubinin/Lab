{
 "cells": [
  {
   "cell_type": "markdown",
   "metadata": {},
   "source": [
    "# Numpy"
   ]
  },
  {
   "cell_type": "markdown",
   "metadata": {},
   "source": [
    "Материалы:\n",
    "* Макрушин С.В. \"Лекция 1: Библиотека Numpy\"\n",
    "* https://numpy.org/doc/stable/user/index.html\n",
    "* https://numpy.org/doc/stable/reference/index.html"
   ]
  },
  {
   "cell_type": "markdown",
   "metadata": {},
   "source": [
    "## Задачи для совместного разбора"
   ]
  },
  {
   "cell_type": "markdown",
   "metadata": {},
   "source": [
    "1. Сгенерировать двухмерный массив `arr` размерности (4, 7), состоящий из случайных действительных чисел, равномерно распределенных в диапазоне от 0 до 20. Нормализовать значения массива с помощью преобразования вида  $𝑎𝑥+𝑏$  так, что после нормализации максимальный элемент масcива будет равен 1.0, минимальный 0.0"
   ]
  },
  {
   "cell_type": "code",
   "execution_count": 13,
   "metadata": {},
   "outputs": [
    {
     "name": "stdout",
     "output_type": "stream",
     "text": [
      "массив arr \n",
      " [[ 5  2 13 17  3  9 10]\n",
      " [16 11  8 12 12 10 17]\n",
      " [13  8  8  7  7  2  0]\n",
      " [ 8 15  4  6  1 14 12]],\n",
      " массив arr с номализованными значениями:\n",
      " [[0.29411765 0.11764706 0.76470588 1.         0.17647059 0.52941176\n",
      "  0.58823529]\n",
      " [0.94117647 0.64705882 0.47058824 0.70588235 0.70588235 0.58823529\n",
      "  1.        ]\n",
      " [0.76470588 0.47058824 0.47058824 0.41176471 0.41176471 0.11764706\n",
      "  0.        ]\n",
      " [0.47058824 0.88235294 0.23529412 0.35294118 0.05882353 0.82352941\n",
      "  0.70588235]]\n"
     ]
    }
   ],
   "source": [
    "import numpy as np\n",
    "arr = np.random.randint(0, 20, size=(4, 7))\n",
    "norm_arr=(arr-np.min(arr))/(np.max(arr)-np.min(arr))\n",
    "print(f'массив arr \\n {arr},\\n массив arr с номализованными значениями:\\n {norm_arr}')"
   ]
  },
  {
   "cell_type": "markdown",
   "metadata": {},
   "source": [
    "2. Создать матрицу 8 на 10 из случайных целых (используя модуль `numpy.random`) чисел из диапозона от 0 до 10 и найти в ней строку (ее индекс и вывести саму строку), в которой сумма значений минимальна."
   ]
  },
  {
   "cell_type": "code",
   "execution_count": 23,
   "metadata": {},
   "outputs": [
    {
     "name": "stdout",
     "output_type": "stream",
     "text": [
      "[[ 1  6  3  8  8  6  2  6 19 13]\n",
      " [13 11 10  0 10  5  3  5 10  9]\n",
      " [ 8  7 18 19  5 15 18  6  2  6]\n",
      " [ 9 14  6 17 15  1  4  5 14  6]\n",
      " [10  7 18 19  6 10  1 16  4  6]\n",
      " [16  6 10 13 10  5 14  9  0 11]\n",
      " [19 10 11  2  1 11 10 12  2 19]\n",
      " [17 17 13 17 19 11  2 18 11 19]]\n",
      "[1 0 2 1 1 0 1 2]\n",
      "min str -\n",
      " [ 1  6  3  8  8  6  2  6 19 13]\n"
     ]
    }
   ],
   "source": [
    "arr = np.random.randint(0, 20, size=(8, 10))\n",
    "print(arr)\n",
    "summ=np.min(arr, axis=1)\n",
    "print(summ)\n",
    "ind=np.argmin(sum)\n",
    "print('min str -\\n', arr[ind])"
   ]
  },
  {
   "cell_type": "markdown",
   "metadata": {},
   "source": [
    "3. Найти евклидово расстояние между двумя одномерными векторами одинаковой размерности."
   ]
  },
  {
   "cell_type": "markdown",
   "metadata": {},
   "source": [
    "4. Решить матричное уравнение `A*X*B=-C` - найти матрицу `X`. Где `A = [[-1, 2, 4], [-3, 1, 2], [-3, 0, 1]]`, `B=[[3, -1], [2, 1]]`, `C=[[7, 21], [11, 8], [8, 4]]`."
   ]
  },
  {
   "cell_type": "markdown",
   "metadata": {},
   "source": [
    "## Лабораторная работа №1"
   ]
  },
  {
   "cell_type": "markdown",
   "metadata": {},
   "source": [
    "Замечание: при решении данных задач не подразумевается использования циклов или генераторов Python, если в задании не сказано обратного. Решение должно опираться на использования функционала библиотеки `numpy`."
   ]
  },
  {
   "cell_type": "markdown",
   "metadata": {},
   "source": [
    "1. Файл `minutes_n_ingredients.csv` содержит информацию об идентификаторе рецепта, времени его выполнения в минутах и количестве необходимых ингредиентов. Считайте данные из этого файла в виде массива `numpy` типа `int32`, используя `np.loadtxt`. Выведите на экран первые 5 строк массива."
   ]
  },
  {
   "cell_type": "code",
   "execution_count": 47,
   "metadata": {},
   "outputs": [
    {
     "name": "stdout",
     "output_type": "stream",
     "text": [
      "[[127244     60     16]\n",
      " [ 23891     25      7]\n",
      " [ 94746     10      6]\n",
      " [ 67660      5      6]\n",
      " [157911     60     14]]\n"
     ]
    }
   ],
   "source": [
    "ar = np.loadtxt('minutes_n_ingredients.csv', delimiter=',',skiprows=1, dtype=np.int32)\n",
    "arr1=ar.copy()\n",
    "print(ar[0:5, :])\n",
    "\n",
    "#arr1"
   ]
  },
  {
   "cell_type": "markdown",
   "metadata": {},
   "source": [
    "2. Вычислите среднее значение, минимум, максимум и медиану по каждому из столбцов, кроме первого."
   ]
  },
  {
   "cell_type": "code",
   "execution_count": 48,
   "metadata": {},
   "outputs": [
    {
     "name": "stdout",
     "output_type": "stream",
     "text": [
      "[[127244     60     16]\n",
      " [ 23891     25      7]\n",
      " [ 94746     10      6]\n",
      " ...\n",
      " [498432     65     15]\n",
      " [370915      5      4]\n",
      " [ 81993    140     14]]\n",
      "средние значения: (21601.00169, 9.05528)\n",
      " мининмум: (0, 1)\n",
      " максимум: (2147483647, 39)\n",
      " медианные значения: (40.0, 9.0)\n"
     ]
    }
   ],
   "source": [
    "#print(ar)\n",
    "aver1=np.mean(ar[0:,1])\n",
    "aver2=np.mean(ar[0:, 2])\n",
    "\n",
    "min1=np.min(ar[:,1])\n",
    "min2=np.min(ar[:,2])\n",
    "\n",
    "max1=np.max(ar[:,1])\n",
    "max2=np.max(ar[:,2])\n",
    "\n",
    "med1=np.median(arr1[:,1])\n",
    "med2=np.median(arr1[:,2])\n",
    "print(f'средние значения: {aver1,aver2}\\n мининмум: {min1,min2}\\n максимум: {max1,max2}\\n медианные значения: {med1,med2}')"
   ]
  },
  {
   "cell_type": "markdown",
   "metadata": {},
   "source": [
    "3. Ограничьте сверху значения продолжительности выполнения рецепта значением квантиля $q_{0.75}$. "
   ]
  },
  {
   "cell_type": "code",
   "execution_count": 49,
   "metadata": {},
   "outputs": [
    {
     "name": "stdout",
     "output_type": "stream",
     "text": [
      "65.0\n"
     ]
    }
   ],
   "source": [
    "arr_lim=np.quantile(ar[:,1],q=0.75)\n",
    "print(arr_lim)"
   ]
  },
  {
   "cell_type": "markdown",
   "metadata": {},
   "source": [
    "4. Посчитайте, для скольких рецептов указана продолжительность, равная нулю. Замените для таких строк значение в данном столбце на 1."
   ]
  },
  {
   "cell_type": "code",
   "execution_count": 57,
   "metadata": {},
   "outputs": [
    {
     "name": "stdout",
     "output_type": "stream",
     "text": [
      "1\n",
      "479\n"
     ]
    }
   ],
   "source": [
    "n=(ar[:,1]==0).sum()\n",
    "ar3=np.place(arr1[:,1],arr1[:,1]==0, 1)\n",
    "print(np.min(arr1))#минимальная продолжительность рецепта\n",
    "print(n)#количество рецептов равных нулю"
   ]
  },
  {
   "cell_type": "markdown",
   "metadata": {},
   "source": [
    "5. Посчитайте, сколько уникальных рецептов находится в датасете."
   ]
  },
  {
   "cell_type": "code",
   "execution_count": 54,
   "metadata": {},
   "outputs": [
    {
     "name": "stdout",
     "output_type": "stream",
     "text": [
      "100000\n"
     ]
    }
   ],
   "source": [
    "rec=np.unique(ar[:,0])\n",
    "print(len(rec))"
   ]
  },
  {
   "cell_type": "markdown",
   "metadata": {},
   "source": [
    "6. Сколько и каких различных значений кол-ва ингредиентов присутвует в рецептах из датасета?"
   ]
  },
  {
   "cell_type": "code",
   "execution_count": 59,
   "metadata": {},
   "outputs": [
    {
     "name": "stdout",
     "output_type": "stream",
     "text": [
      "37 [ 1  2  3  4  5  6  7  8  9 10 11 12 13 14 15 16 17 18 19 20 21 22 23 24\n",
      " 25 26 27 28 29 30 31 32 33 34 35 37 39]\n"
     ]
    }
   ],
   "source": [
    "ing=(np.unique(ar[:,2]))\n",
    "print(len(ing),ing)"
   ]
  },
  {
   "cell_type": "markdown",
   "metadata": {},
   "source": [
    "7. Создайте версию массива, содержащую информацию только о рецептах, состоящих не более чем из 5 ингредиентов."
   ]
  },
  {
   "cell_type": "code",
   "execution_count": 50,
   "metadata": {},
   "outputs": [
    {
     "name": "stdout",
     "output_type": "stream",
     "text": [
      "[[446597     15      5]\n",
      " [204134      5      3]\n",
      " [ 25623      6      4]\n",
      " ...\n",
      " [ 52088     60      5]\n",
      " [128811     15      4]\n",
      " [370915      5      4]]\n"
     ]
    }
   ],
   "source": [
    "arr5=ar[ar[:,2]<=5]\n",
    "print(arr5)"
   ]
  },
  {
   "cell_type": "markdown",
   "metadata": {},
   "source": [
    "8. Для каждого рецепта посчитайте, сколько в среднем ингредиентов приходится на одну минуту рецепта. Найдите максимальное значение этой величины для всего датасета"
   ]
  },
  {
   "cell_type": "code",
   "execution_count": 62,
   "metadata": {},
   "outputs": [
    {
     "name": "stdout",
     "output_type": "stream",
     "text": [
      "[0.26666667 0.28       0.6        ... 0.23076923 0.8        0.1       ] 24.0\n"
     ]
    }
   ],
   "source": [
    "av_ingr=arr1[:, 2]/arr1[:, 1]\n",
    "av_ingr_max=np.max(av_ingr)\n",
    "print(av_ingr,av_ingr_max)"
   ]
  },
  {
   "cell_type": "markdown",
   "metadata": {},
   "source": [
    "9. Вычислите среднее количество ингредиентов для топ-100 рецептов с наибольшей продолжительностью"
   ]
  },
  {
   "cell_type": "code",
   "execution_count": null,
   "metadata": {},
   "outputs": [],
   "source": []
  },
  {
   "cell_type": "markdown",
   "metadata": {},
   "source": [
    "10. Выберите случайным образом и выведите информацию о 10 различных рецептах"
   ]
  },
  {
   "cell_type": "code",
   "execution_count": 69,
   "metadata": {},
   "outputs": [
    {
     "name": "stdout",
     "output_type": "stream",
     "text": [
      "[[159870     20     17]\n",
      " [211569     25      8]\n",
      " [238679     30     13]\n",
      " [ 53266     65     15]\n",
      " [278082     15      6]\n",
      " [254063     50      5]\n",
      " [473163     30      6]\n",
      " [175916     40      6]\n",
      " [476503     50      7]\n",
      " [144175     35      5]]\n"
     ]
    }
   ],
   "source": [
    "rec_rand=arr1[np.random.randint(arr1.shape[0], size=10)]\n",
    "print(rec_rand)"
   ]
  },
  {
   "cell_type": "markdown",
   "metadata": {},
   "source": [
    "11. Выведите процент рецептов, кол-во ингредиентов в которых меньше среднего."
   ]
  },
  {
   "cell_type": "code",
   "execution_count": 67,
   "metadata": {},
   "outputs": [
    {
     "name": "stdout",
     "output_type": "stream",
     "text": [
      "9.05528 58.802\n"
     ]
    }
   ],
   "source": [
    "av_rec=np.average(arr1[:,2])#среднее кол-во ингредиентов в рецепте  \n",
    "num=(arr1[:,2]<av_rec).sum()/len(arr1[:,2])*100\n",
    "\n",
    "print(num)"
   ]
  },
  {
   "cell_type": "markdown",
   "metadata": {},
   "source": [
    "12. Назовем \"простым\" такой рецепт, длительность выполнения которого не больше 20 минут и кол-во ингредиентов в котором не больше 5. Создайте версию датасета с дополнительным столбцом, значениями которого являются 1, если рецепт простой, и 0 в противном случае."
   ]
  },
  {
   "cell_type": "code",
   "execution_count": null,
   "metadata": {},
   "outputs": [],
   "source": []
  },
  {
   "cell_type": "markdown",
   "metadata": {},
   "source": [
    "13. Выведите процент \"простых\" рецептов в датасете"
   ]
  },
  {
   "cell_type": "code",
   "execution_count": null,
   "metadata": {},
   "outputs": [],
   "source": []
  },
  {
   "cell_type": "markdown",
   "metadata": {},
   "source": [
    "14. Разделим рецепты на группы по следующему правилу. Назовем рецепты короткими, если их продолжительность составляет менее 10 минут; стандартными, если их продолжительность составляет более 10, но менее 20 минут; и длинными, если их продолжительность составляет не менее 20 минут. Создайте трехмерный массив, где нулевая ось отвечает за номер группы (короткий, стандартный или длинный рецепт), первая ось - за сам рецепт и вторая ось - за характеристики рецепта. Выберите максимальное количество рецептов из каждой группы таким образом, чтобы было возможно сформировать трехмерный массив. Выведите форму полученного массива."
   ]
  },
  {
   "cell_type": "code",
   "execution_count": null,
   "metadata": {},
   "outputs": [],
   "source": []
  }
 ],
 "metadata": {
  "kernelspec": {
   "display_name": "Python 3 (ipykernel)",
   "language": "python",
   "name": "python3"
  },
  "language_info": {
   "codemirror_mode": {
    "name": "ipython",
    "version": 3
   },
   "file_extension": ".py",
   "mimetype": "text/x-python",
   "name": "python",
   "nbconvert_exporter": "python",
   "pygments_lexer": "ipython3",
   "version": "3.9.13"
  }
 },
 "nbformat": 4,
 "nbformat_minor": 4
}
